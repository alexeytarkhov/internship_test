{
 "cells": [
  {
   "cell_type": "code",
   "execution_count": null,
   "metadata": {},
   "outputs": [],
   "source": [
    "data_path = 'internship_data'"
   ]
  },
  {
   "cell_type": "code",
   "execution_count": null,
   "metadata": {
    "colab": {},
    "colab_type": "code",
    "id": "y5D9KuYIdRk6"
   },
   "outputs": [],
   "source": [
    "import torch\n",
    "import numpy as np\n",
    "import tqdm\n",
    "\n",
    "\n",
    "np.random.seed(0)\n",
    "torch.manual_seed(0)\n",
    "torch.cuda.manual_seed(0)\n",
    "torch.backends.cudnn.deterministic = True\n"
   ]
  },
  {
   "cell_type": "markdown",
   "metadata": {
    "colab_type": "text",
    "id": "v8G7XSh3lAaC"
   },
   "source": [
    "Определяем аугментации для тренировочной и валидационной выборки"
   ]
  },
  {
   "cell_type": "code",
   "execution_count": null,
   "metadata": {
    "colab": {},
    "colab_type": "code",
    "id": "KZ2c_JGrDrdx"
   },
   "outputs": [],
   "source": [
    "from torchvision import transforms\n",
    "\n",
    "input_size = 224\n",
    "train_transforms = transforms.Compose([\n",
    "                                       transforms.Resize((input_size,input_size)),\n",
    "                                       transforms.RandomHorizontalFlip(p=0.5),\n",
    "                                       transforms.RandomRotation(45),\n",
    "                                       transforms.RandomGrayscale(p=0.1),\n",
    "                                       transforms.ToTensor(),\n",
    "                                       transforms.Normalize(\n",
    "                                           [0.485, 0.456, 0.406], \n",
    "                                           [0.229, 0.224, 0.225])\n",
    "])\n",
    "valid_transforms = transforms.Compose([\n",
    "                                       transforms.Resize((input_size, input_size)),\n",
    "                                       transforms.ToTensor(),\n",
    "                                       transforms.Normalize(\n",
    "                                           [0.485, 0.456, 0.406], \n",
    "                                           [0.229, 0.224, 0.225])\n",
    "])"
   ]
  },
  {
   "cell_type": "code",
   "execution_count": null,
   "metadata": {
    "colab": {},
    "colab_type": "code",
    "id": "XjI7CPbZ0KC3"
   },
   "outputs": [],
   "source": [
    "\n",
    "valid_size = 0.2\n",
    "batch_size = 16"
   ]
  },
  {
   "cell_type": "markdown",
   "metadata": {
    "colab_type": "text",
    "id": "lKcjNYcslqSv"
   },
   "source": [
    "Разделяем датасет на тренировочную и валидационную выборки. Определяем соответствующие даталоадеры"
   ]
  },
  {
   "cell_type": "code",
   "execution_count": null,
   "metadata": {
    "colab": {},
    "colab_type": "code",
    "id": "OxsjZTLGOouW"
   },
   "outputs": [],
   "source": [
    "from torchvision.datasets import ImageFolder\n",
    "from torch.utils.data import SubsetRandomSampler, DataLoader\n",
    "train_dataset = ImageFolder(data_path, train_transforms)\n",
    "valid_dataset = ImageFolder(data_path, valid_transforms)\n",
    "\n",
    "num_train = len(train_dataset) \n",
    "indices = list(range(num_train))\n",
    "split = int(np.floor(valid_size * num_train))\n",
    "\n",
    "train_idx, valid_idx = indices[split:], indices[:split]\n",
    "train_sampler = SubsetRandomSampler(train_idx)\n",
    "valid_sampler = SubsetRandomSampler(valid_idx)\n",
    "\n",
    "train_dataloader = DataLoader(train_dataset, batch_size=batch_size, sampler = train_sampler)\n",
    "valid_dataloader = DataLoader(valid_dataset, batch_size=batch_size, sampler = valid_sampler)"
   ]
  },
  {
   "cell_type": "markdown",
   "metadata": {
    "colab_type": "text",
    "id": "EobLGZHdyCwb"
   },
   "source": [
    "Определяем функции для обучения сети и валидиции"
   ]
  },
  {
   "cell_type": "code",
   "execution_count": null,
   "metadata": {
    "colab": {},
    "colab_type": "code",
    "id": "FiwE8ZHpMLP8"
   },
   "outputs": [],
   "source": [
    "def train(model, loader, loss_fn, optimizer, device, scheduler=None):\n",
    "    model.train()\n",
    "    train_loss = []\n",
    "    train_acc = []\n",
    "\n",
    "    for images, labels in tqdm.tqdm(loader, total=len(loader), desc=\"training...\", position=0, leave=True):\n",
    "        images = images.to(device)  \n",
    "        labels = labels.to(device) \n",
    "\n",
    "        preds = model(images) \n",
    "        loss = loss_fn(preds, labels)\n",
    "        preds_class = preds.argmax(dim=1)\n",
    "\n",
    "        train_loss.append(loss.item())\n",
    "        train_acc.append((preds_class == labels.data).float().mean())\n",
    "\n",
    "        optimizer.zero_grad()\n",
    "        loss.backward()\n",
    "        optimizer.step()\n",
    "    \n",
    "    if scheduler:\n",
    "        scheduler.step()\n",
    "\n",
    "    return np.mean(train_loss, dtype=np.float64), np.mean(train_acc, dtype=np.float64)\n",
    "\n",
    "\n",
    "def validate(model, loader, loss_fn, device):\n",
    "    model.eval()\n",
    "    val_loss = []\n",
    "    val_acc = []\n",
    "    for images, labels in tqdm.tqdm(loader, total=len(loader), desc=\"validation...\", position=0, leave=True):\n",
    "        images = images.to(device)  \n",
    "        labels = labels.to(device)\n",
    "\n",
    "        with torch.no_grad():\n",
    "            preds = model(images) \n",
    "        loss = loss_fn(preds, labels)\n",
    "        preds_class = preds.argmax(dim=1)\n",
    "\n",
    "        val_loss.append(loss.item())\n",
    "        val_acc.append((preds_class == labels.data).float().mean())\n",
    "\n",
    "    return np.mean(val_loss, dtype=np.float64), np.mean(val_acc, dtype=np.float64)\n",
    "\n"
   ]
  },
  {
   "cell_type": "markdown",
   "metadata": {
    "colab_type": "text",
    "id": "zt929iW9yc1d"
   },
   "source": [
    "Определяем архитектуру сети, функцию потерь и метод оптимизации"
   ]
  },
  {
   "cell_type": "code",
   "execution_count": null,
   "metadata": {
    "colab": {},
    "colab_type": "code",
    "id": "as3gIATHPQlO"
   },
   "outputs": [],
   "source": [
    "import torch.nn as nn\n",
    "import torch.optim as optim\n",
    "from torchvision import models\n",
    "\n",
    "\n",
    "device = \"cuda\" if torch.cuda.is_available() else \"cpu\"\n",
    "LR = 1e-3\n",
    "\n",
    "model = models.resnet18(pretrained=True)\n",
    "model.fc = nn.Linear(model.fc.in_features, 2)\n",
    "model.to(device)\n",
    "\n",
    "optimizer = optim.Adam(model.parameters(), lr=LR, amsgrad=True)\n",
    "loss_fn = nn.CrossEntropyLoss()"
   ]
  },
  {
   "cell_type": "markdown",
   "metadata": {},
   "source": [
    "Выполняем обучение. При улучшении лосса на валидации на текущей эпохе сохраняем модель"
   ]
  },
  {
   "cell_type": "code",
   "execution_count": null,
   "metadata": {
    "colab": {
     "base_uri": "https://localhost:8080/",
     "height": 1000
    },
    "colab_type": "code",
    "id": "tMOGFodvPkI3",
    "outputId": "f40c0c23-ceab-4293-f5cf-6a44014cf5bc"
   },
   "outputs": [],
   "source": [
    "num_epochs = 15\n",
    "best_val_loss = np.inf\n",
    "for epoch in range(num_epochs):\n",
    "\n",
    "    train_loss, train_acc = train(model, train_dataloader, loss_fn, optimizer, device=device)\n",
    "    val_loss, val_acc = validate(model, valid_dataloader, loss_fn, device=device)\n",
    "    \n",
    "\n",
    "    print(\"Epoch #{:2}:\\ttrain loss: {:10.7}\\tval loss: {:10.7}\\ttrain acc: {:10.7}\\tval acc: {:10.7}\".format(epoch, train_loss, val_loss, train_acc, val_acc))\n",
    "    if val_loss < best_val_loss:\n",
    "        best_val_loss = val_loss\n",
    "        with open(f\"model.pth\", \"wb\") as fp:\n",
    "            torch.save(model.state_dict(), fp)"
   ]
  },
  {
   "cell_type": "code",
   "execution_count": null,
   "metadata": {
    "colab": {},
    "colab_type": "code",
    "id": "X1v-egDCjWlx"
   },
   "outputs": [],
   "source": []
  }
 ],
 "metadata": {
  "accelerator": "GPU",
  "colab": {
   "collapsed_sections": [],
   "name": "male_female_classification.ipynb",
   "provenance": []
  },
  "kernelspec": {
   "display_name": "Python 3",
   "language": "python",
   "name": "python3"
  },
  "language_info": {
   "codemirror_mode": {
    "name": "ipython",
    "version": 3
   },
   "file_extension": ".py",
   "mimetype": "text/x-python",
   "name": "python",
   "nbconvert_exporter": "python",
   "pygments_lexer": "ipython3",
   "version": "3.8.5"
  }
 },
 "nbformat": 4,
 "nbformat_minor": 1
}
